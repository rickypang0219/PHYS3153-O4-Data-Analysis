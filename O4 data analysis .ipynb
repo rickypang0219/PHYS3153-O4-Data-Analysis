{
 "cells": [
  {
   "cell_type": "markdown",
   "metadata": {},
   "source": [
    "# PHYS3153 O4 Experiment \n",
    "\n",
    "In this experiment, students need to prepare the 6 samples with different molarities and place then into spectrometor(with light source, diffraction grating, rotating arm, and light sensor). Firslty, we place the samples in front of light sensor. Then, when we rotate the rotating arm, the diffraced colored light will penetrad the samples. The intensity and the angular position(rad) are recorded by light sensor. In this experiment, we want to find out the absorbed wavelength of the samples. \n",
    "\n",
    "In this code, we only use the data of one sample for illustation. The procedures are same when we so data analysis on other samples. "
   ]
  },
  {
   "cell_type": "code",
   "execution_count": 1,
   "metadata": {},
   "outputs": [],
   "source": [
    "%matplotlib inline \n",
    "import numpy as np \n",
    "import pandas as pd \n",
    "import matplotlib.pyplot as plt\n",
    "import seaborn as sns \n",
    "\n",
    "sns.set_style(\"darkgrid\")"
   ]
  },
  {
   "cell_type": "markdown",
   "metadata": {},
   "source": [
    "# Read the raw data using Pandas\n",
    "\n",
    "As the sample rate is 50Hz (taking 50 data in one second), we need to consolidate the data by finding the mean of each set of recorded angular position. \n",
    "\n",
    "The pd.DataFrame.groupby function can group data to particular things. In here, we need to consolidate the data by finding the mean value of intensity of each angular position. Therefore, we use groupby to group the intensity data by the angular position and then take the mean values of the intenisty. \n",
    "\n",
    "The detailed discussion on pd.DataFrame.groupby:\n",
    "https://pandas.pydata.org/pandas-docs/stable/reference/api/pandas.DataFrame.groupby.html"
   ]
  },
  {
   "cell_type": "code",
   "execution_count": 2,
   "metadata": {},
   "outputs": [
    {
     "data": {
      "text/html": [
       "<div>\n",
       "<style scoped>\n",
       "    .dataframe tbody tr th:only-of-type {\n",
       "        vertical-align: middle;\n",
       "    }\n",
       "\n",
       "    .dataframe tbody tr th {\n",
       "        vertical-align: top;\n",
       "    }\n",
       "\n",
       "    .dataframe thead th {\n",
       "        text-align: right;\n",
       "    }\n",
       "</style>\n",
       "<table border=\"1\" class=\"dataframe\">\n",
       "  <thead>\n",
       "    <tr style=\"text-align: right;\">\n",
       "      <th></th>\n",
       "      <th>Pos(rad)</th>\n",
       "      <th>Intensity</th>\n",
       "    </tr>\n",
       "  </thead>\n",
       "  <tbody>\n",
       "    <tr>\n",
       "      <th>0</th>\n",
       "      <td>-0.000073</td>\n",
       "      <td>13.5</td>\n",
       "    </tr>\n",
       "    <tr>\n",
       "      <th>1</th>\n",
       "      <td>-0.000073</td>\n",
       "      <td>13.5</td>\n",
       "    </tr>\n",
       "    <tr>\n",
       "      <th>2</th>\n",
       "      <td>-0.000073</td>\n",
       "      <td>13.5</td>\n",
       "    </tr>\n",
       "    <tr>\n",
       "      <th>3</th>\n",
       "      <td>-0.000073</td>\n",
       "      <td>13.5</td>\n",
       "    </tr>\n",
       "    <tr>\n",
       "      <th>4</th>\n",
       "      <td>-0.000073</td>\n",
       "      <td>13.5</td>\n",
       "    </tr>\n",
       "    <tr>\n",
       "      <th>...</th>\n",
       "      <td>...</td>\n",
       "      <td>...</td>\n",
       "    </tr>\n",
       "    <tr>\n",
       "      <th>6446</th>\n",
       "      <td>0.854000</td>\n",
       "      <td>34.7</td>\n",
       "    </tr>\n",
       "    <tr>\n",
       "      <th>6447</th>\n",
       "      <td>0.854000</td>\n",
       "      <td>34.7</td>\n",
       "    </tr>\n",
       "    <tr>\n",
       "      <th>6448</th>\n",
       "      <td>0.854000</td>\n",
       "      <td>34.7</td>\n",
       "    </tr>\n",
       "    <tr>\n",
       "      <th>6449</th>\n",
       "      <td>0.854000</td>\n",
       "      <td>34.7</td>\n",
       "    </tr>\n",
       "    <tr>\n",
       "      <th>6450</th>\n",
       "      <td>0.854000</td>\n",
       "      <td>34.7</td>\n",
       "    </tr>\n",
       "  </tbody>\n",
       "</table>\n",
       "<p>6451 rows × 2 columns</p>\n",
       "</div>"
      ],
      "text/plain": [
       "      Pos(rad)  Intensity\n",
       "0    -0.000073       13.5\n",
       "1    -0.000073       13.5\n",
       "2    -0.000073       13.5\n",
       "3    -0.000073       13.5\n",
       "4    -0.000073       13.5\n",
       "...        ...        ...\n",
       "6446  0.854000       34.7\n",
       "6447  0.854000       34.7\n",
       "6448  0.854000       34.7\n",
       "6449  0.854000       34.7\n",
       "6450  0.854000       34.7\n",
       "\n",
       "[6451 rows x 2 columns]"
      ]
     },
     "execution_count": 2,
     "metadata": {},
     "output_type": "execute_result"
    }
   ],
   "source": [
    "# Read the csv/ txt file by using pd.read_csv\n",
    "# For txt file, you may need to set the delimeter = \"\\t\"\n",
    "\n",
    "data = pd.read_csv(\"O4_data.csv\", header = 2, names=[\"Pos(rad)\",\"Intensity\"])\n",
    "data"
   ]
  },
  {
   "cell_type": "code",
   "execution_count": 3,
   "metadata": {},
   "outputs": [
    {
     "data": {
      "text/html": [
       "<div>\n",
       "<style scoped>\n",
       "    .dataframe tbody tr th:only-of-type {\n",
       "        vertical-align: middle;\n",
       "    }\n",
       "\n",
       "    .dataframe tbody tr th {\n",
       "        vertical-align: top;\n",
       "    }\n",
       "\n",
       "    .dataframe thead th {\n",
       "        text-align: right;\n",
       "    }\n",
       "</style>\n",
       "<table border=\"1\" class=\"dataframe\">\n",
       "  <thead>\n",
       "    <tr style=\"text-align: right;\">\n",
       "      <th></th>\n",
       "      <th>Intensity</th>\n",
       "    </tr>\n",
       "    <tr>\n",
       "      <th>Pos(rad)</th>\n",
       "      <th></th>\n",
       "    </tr>\n",
       "  </thead>\n",
       "  <tbody>\n",
       "    <tr>\n",
       "      <th>-0.000073</th>\n",
       "      <td>13.429577</td>\n",
       "    </tr>\n",
       "    <tr>\n",
       "      <th>0.000000</th>\n",
       "      <td>13.457143</td>\n",
       "    </tr>\n",
       "    <tr>\n",
       "      <th>0.000073</th>\n",
       "      <td>13.525000</td>\n",
       "    </tr>\n",
       "    <tr>\n",
       "      <th>0.000145</th>\n",
       "      <td>13.600000</td>\n",
       "    </tr>\n",
       "    <tr>\n",
       "      <th>0.000218</th>\n",
       "      <td>13.685714</td>\n",
       "    </tr>\n",
       "    <tr>\n",
       "      <th>...</th>\n",
       "      <td>...</td>\n",
       "    </tr>\n",
       "    <tr>\n",
       "      <th>0.850000</th>\n",
       "      <td>35.783333</td>\n",
       "    </tr>\n",
       "    <tr>\n",
       "      <th>0.851000</th>\n",
       "      <td>35.540000</td>\n",
       "    </tr>\n",
       "    <tr>\n",
       "      <th>0.852000</th>\n",
       "      <td>35.128571</td>\n",
       "    </tr>\n",
       "    <tr>\n",
       "      <th>0.853000</th>\n",
       "      <td>34.833333</td>\n",
       "    </tr>\n",
       "    <tr>\n",
       "      <th>0.854000</th>\n",
       "      <td>34.597101</td>\n",
       "    </tr>\n",
       "  </tbody>\n",
       "</table>\n",
       "<p>884 rows × 1 columns</p>\n",
       "</div>"
      ],
      "text/plain": [
       "           Intensity\n",
       "Pos(rad)            \n",
       "-0.000073  13.429577\n",
       " 0.000000  13.457143\n",
       " 0.000073  13.525000\n",
       " 0.000145  13.600000\n",
       " 0.000218  13.685714\n",
       "...              ...\n",
       " 0.850000  35.783333\n",
       " 0.851000  35.540000\n",
       " 0.852000  35.128571\n",
       " 0.853000  34.833333\n",
       " 0.854000  34.597101\n",
       "\n",
       "[884 rows x 1 columns]"
      ]
     },
     "execution_count": 3,
     "metadata": {},
     "output_type": "execute_result"
    }
   ],
   "source": [
    "# Consolidate the data by using groupby function \n",
    "con_data = data.groupby(data.columns[0]).mean()\n",
    "con_data"
   ]
  },
  {
   "cell_type": "code",
   "execution_count": 4,
   "metadata": {},
   "outputs": [
    {
     "data": {
      "text/plain": [
       "<matplotlib.legend.Legend at 0x121021eb8>"
      ]
     },
     "execution_count": 4,
     "metadata": {},
     "output_type": "execute_result"
    },
    {
     "data": {
      "image/png": "[encoded data removed]",
      "text/plain": [
       "<Figure size 432x288 with 1 Axes>"
      ]
     },
     "metadata": {},
     "output_type": "display_data"
    }
   ],
   "source": [
    "# plot Intensity VS Angular positions Graph\n",
    "plt.title(\"Intensity VS Angular positions\")\n",
    "plt.plot(con_data.index.values, con_data.values, label=\"Sample 1\")\n",
    "plt.xlabel(\"Angular Position (rad)\")\n",
    "plt.ylabel(\"Intensity\")\n",
    "plt.legend()"
   ]
  },
  {
   "cell_type": "markdown",
   "metadata": {},
   "source": [
    "# Shift the Peak to Origin \n",
    "\n",
    "For someone who forget to place the light sensor in angular position=0 (highest intensity place) initially, we need to modify the data such that the peak is centered at origin in order to getthe correct results. If you place the light sensor at rad =0 initially, you can skip this step."
   ]
  },
  {
   "cell_type": "code",
   "execution_count": 5,
   "metadata": {},
   "outputs": [
    {
     "data": {
      "text/html": [
       "<div>\n",
       "<style scoped>\n",
       "    .dataframe tbody tr th:only-of-type {\n",
       "        vertical-align: middle;\n",
       "    }\n",
       "\n",
       "    .dataframe tbody tr th {\n",
       "        vertical-align: top;\n",
       "    }\n",
       "\n",
       "    .dataframe thead th {\n",
       "        text-align: right;\n",
       "    }\n",
       "</style>\n",
       "<table border=\"1\" class=\"dataframe\">\n",
       "  <thead>\n",
       "    <tr style=\"text-align: right;\">\n",
       "      <th></th>\n",
       "      <th>Intensity</th>\n",
       "    </tr>\n",
       "    <tr>\n",
       "      <th>Pos(rad)</th>\n",
       "      <th></th>\n",
       "    </tr>\n",
       "  </thead>\n",
       "  <tbody>\n",
       "    <tr>\n",
       "      <th>0.433</th>\n",
       "      <td>99.611111</td>\n",
       "    </tr>\n",
       "  </tbody>\n",
       "</table>\n",
       "</div>"
      ],
      "text/plain": [
       "          Intensity\n",
       "Pos(rad)           \n",
       "0.433     99.611111"
      ]
     },
     "execution_count": 5,
     "metadata": {},
     "output_type": "execute_result"
    }
   ],
   "source": [
    "# Find the angular position with max intensity first\n",
    "con_data[con_data.values == con_data.values.max()]"
   ]
  },
  {
   "cell_type": "code",
   "execution_count": 6,
   "metadata": {},
   "outputs": [],
   "source": [
    "# after finding the radian of highest intensity, \n",
    "# we substract our data this values for radian larger than it.\n",
    "# then we can shift the peak into center\n",
    "\n",
    "# get the data with ang pos > 0.433. For ang pos =<0.433, they are useless for us\n",
    "real_data = con_data[con_data.index > 0.433]\n",
    "\n",
    "# substract the whole angular pos data with 0.433, then we define new_index as it\n",
    "new_index = real_data.index.values -(0.433)\n",
    "\n",
    "# use \"new_index \" as our new index data\n",
    "real_data = real_data.set_index(new_index)\n",
    "\n",
    "# rename the index \n",
    "real_data.rename_axis(\"Pos(rad)\", axis=\"index\", inplace = True)"
   ]
  },
  {
   "cell_type": "code",
   "execution_count": 7,
   "metadata": {},
   "outputs": [
    {
     "data": {
      "text/html": [
       "<div>\n",
       "<style scoped>\n",
       "    .dataframe tbody tr th:only-of-type {\n",
       "        vertical-align: middle;\n",
       "    }\n",
       "\n",
       "    .dataframe tbody tr th {\n",
       "        vertical-align: top;\n",
       "    }\n",
       "\n",
       "    .dataframe thead th {\n",
       "        text-align: right;\n",
       "    }\n",
       "</style>\n",
       "<table border=\"1\" class=\"dataframe\">\n",
       "  <thead>\n",
       "    <tr style=\"text-align: right;\">\n",
       "      <th></th>\n",
       "      <th>Intensity</th>\n",
       "    </tr>\n",
       "    <tr>\n",
       "      <th>Pos(rad)</th>\n",
       "      <th></th>\n",
       "    </tr>\n",
       "  </thead>\n",
       "  <tbody>\n",
       "    <tr>\n",
       "      <th>0.001</th>\n",
       "      <td>79.471429</td>\n",
       "    </tr>\n",
       "    <tr>\n",
       "      <th>0.002</th>\n",
       "      <td>63.971429</td>\n",
       "    </tr>\n",
       "    <tr>\n",
       "      <th>0.003</th>\n",
       "      <td>55.966667</td>\n",
       "    </tr>\n",
       "    <tr>\n",
       "      <th>0.004</th>\n",
       "      <td>50.775000</td>\n",
       "    </tr>\n",
       "    <tr>\n",
       "      <th>0.005</th>\n",
       "      <td>46.133333</td>\n",
       "    </tr>\n",
       "    <tr>\n",
       "      <th>...</th>\n",
       "      <td>...</td>\n",
       "    </tr>\n",
       "    <tr>\n",
       "      <th>0.417</th>\n",
       "      <td>35.783333</td>\n",
       "    </tr>\n",
       "    <tr>\n",
       "      <th>0.418</th>\n",
       "      <td>35.540000</td>\n",
       "    </tr>\n",
       "    <tr>\n",
       "      <th>0.419</th>\n",
       "      <td>35.128571</td>\n",
       "    </tr>\n",
       "    <tr>\n",
       "      <th>0.420</th>\n",
       "      <td>34.833333</td>\n",
       "    </tr>\n",
       "    <tr>\n",
       "      <th>0.421</th>\n",
       "      <td>34.597101</td>\n",
       "    </tr>\n",
       "  </tbody>\n",
       "</table>\n",
       "<p>421 rows × 1 columns</p>\n",
       "</div>"
      ],
      "text/plain": [
       "          Intensity\n",
       "Pos(rad)           \n",
       "0.001     79.471429\n",
       "0.002     63.971429\n",
       "0.003     55.966667\n",
       "0.004     50.775000\n",
       "0.005     46.133333\n",
       "...             ...\n",
       "0.417     35.783333\n",
       "0.418     35.540000\n",
       "0.419     35.128571\n",
       "0.420     34.833333\n",
       "0.421     34.597101\n",
       "\n",
       "[421 rows x 1 columns]"
      ]
     },
     "execution_count": 7,
     "metadata": {},
     "output_type": "execute_result"
    }
   ],
   "source": [
    "# Shoe real_data \n",
    "real_data"
   ]
  },
  {
   "cell_type": "markdown",
   "metadata": {},
   "source": [
    "# Calcualtion of wavelength(nm) \n",
    "\n",
    "After getting the correct angular positions, we can use it to calculate the wavelength of each point by using the equation for diffraction (for first order diffracted light) "
   ]
  },
  {
   "cell_type": "code",
   "execution_count": 8,
   "metadata": {},
   "outputs": [],
   "source": [
    "# define a function to find the wavelength of the light in (nm)\n",
    "def wavelength(con_data_index_val, con_data, **arg):\n",
    "    w =  10000/6*(np.sin(con_data_index_val))\n",
    "    return w\n",
    "\n",
    "wavelength_1 = wavelength(real_data.index.values, real_data)"
   ]
  },
  {
   "cell_type": "code",
   "execution_count": 9,
   "metadata": {},
   "outputs": [
    {
     "data": {
      "text/plain": [
       "array([  1.66666639,   3.33333111,   4.9999925 ,   6.66664889,\n",
       "         8.33329861,   9.99994   ,  11.66657139,  13.33319111,\n",
       "        14.9997975 ,  16.66638889,  18.33296361,  19.99952   ,\n",
       "        21.66605639,  23.33257112,  24.99906251,  26.6655289 ,\n",
       "        28.33196863,  29.99838003,  31.66476142,  33.33111116,\n",
       "        34.99742756,  36.66370896,  38.3299537 ,  39.99616011,\n",
       "        41.66232652,  43.32845128,  44.9945327 ,  46.66056913,\n",
       "        48.3265589 ,  49.99250034,  51.65839179,  53.32423158,\n",
       "        54.99001804,  56.65574952,  58.32142434,  59.98704084,\n",
       "        61.65259735,  63.31809221,  64.98352375,  66.64889031,\n",
       "        68.31419022,  69.97942182,  71.64458343,  73.3096734 ,\n",
       "        74.97469006,  76.63963175,  78.3044968 ,  79.96928354,\n",
       "        81.63399031,  83.29861545,  84.96315729,  86.62761417,\n",
       "        88.29198442,  89.95626638,  91.62045838,  93.28455876,\n",
       "        94.94856586,  96.612478  ,  98.27629354,  99.9400108 ,\n",
       "       101.60362812, 103.26714383, 104.93055628, 106.5938638 ,\n",
       "       108.25706472, 109.92015739, 111.58314014, 113.2460113 ,\n",
       "       114.90876922, 116.57141223, 118.23393867, 119.89634687,\n",
       "       121.55863518, 123.22080193, 124.88284545, 126.5447641 ,\n",
       "       128.2065562 , 129.86822009, 131.52975412, 133.19115662,\n",
       "       134.85242592, 136.51356037, 138.17455831, 139.83541808,\n",
       "       141.496138  , 143.15671644, 144.81715171, 146.47744217,\n",
       "       148.13758615, 149.797582  , 151.45742804, 153.11712263,\n",
       "       154.7766641 , 156.4360508 , 158.09528106, 159.75435322,\n",
       "       161.41326563, 163.07201663, 164.73060455, 166.38902774,\n",
       "       168.04728455, 169.70537331, 171.36329236, 173.02104005,\n",
       "       174.67861471, 176.3360147 , 177.99323836, 179.65028402,\n",
       "       181.30715003, 182.96383473, 184.62033647, 186.27665359,\n",
       "       187.93278443, 189.58872734, 191.24448066, 192.90004273,\n",
       "       194.55541191, 196.21058653, 197.86556494, 199.52034548,\n",
       "       201.17492651, 202.82930635, 204.48348337, 206.13745591,\n",
       "       207.79122231, 209.44478092, 211.09813008, 212.75126814,\n",
       "       214.40419346, 216.05690437, 217.70939922, 219.36167636,\n",
       "       221.01373414, 222.66557091, 224.31718501, 225.9685748 ,\n",
       "       227.61973861, 229.27067481, 230.92138174, 232.57185774,\n",
       "       234.22210117, 235.87211038, 237.52188372, 239.17141954,\n",
       "       240.82071618, 242.46977201, 244.11858536, 245.7671546 ,\n",
       "       247.41547807, 249.06355412, 250.71138111, 252.35895739,\n",
       "       254.00628131, 255.65335122, 257.30016549, 258.94672245,\n",
       "       260.59302046, 262.23905788, 263.88483306, 265.53034436,\n",
       "       267.17559012, 268.82056871, 270.46527848, 272.10971779,\n",
       "       273.75388498, 275.39777843, 277.04139647, 278.68473747,\n",
       "       280.32779979, 281.97058178, 283.6130818 , 285.2552982 ,\n",
       "       286.89722935, 288.53887361, 290.18022932, 291.82129486,\n",
       "       293.46206857, 295.10254882, 296.74273397, 298.38262238,\n",
       "       300.0222124 , 301.6615024 , 303.30049074, 304.93917578,\n",
       "       306.57755588, 308.2156294 , 309.85339471, 311.49085016,\n",
       "       313.12799413, 314.76482496, 316.40134103, 318.0375407 ,\n",
       "       319.67342233, 321.30898429, 322.94422494, 324.57914264,\n",
       "       326.21373577, 327.84800268, 329.48194174, 331.11555133,\n",
       "       332.74882979, 334.38177551, 336.01438684, 337.64666217,\n",
       "       339.27859984, 340.91019824, 342.54145572, 344.17237067,\n",
       "       345.80294144, 347.43316641, 349.06304395, 350.69257242,\n",
       "       352.3217502 , 353.95057566, 355.57904717, 357.2071631 ,\n",
       "       358.83492182, 360.46232171, 362.08936113, 363.71603847,\n",
       "       365.34235209, 366.96830037, 368.59388167, 370.21909439,\n",
       "       371.84393689, 373.46840754, 375.09250472, 376.71622681,\n",
       "       378.33957219, 379.96253923, 381.5851263 , 383.20733179,\n",
       "       384.82915407, 386.45059152, 388.07164252, 389.69230545,\n",
       "       391.31257869, 392.93246061, 394.5519496 , 396.17104405,\n",
       "       397.78974231, 399.40804279, 401.02594387, 402.64344391,\n",
       "       404.26054131, 405.87723446, 407.49352172, 409.10940149,\n",
       "       410.72487215, 412.33993209, 413.95457969, 415.56881333,\n",
       "       417.1826314 , 418.7960323 , 420.40901439, 422.02157608,\n",
       "       423.63371574, 425.24543177, 426.85672256, 428.46758649,\n",
       "       430.07802195, 431.68802733, 433.29760103, 434.90674142,\n",
       "       436.51544692, 438.12371589, 439.73154674, 441.33893786,\n",
       "       442.94588765, 444.55239448, 446.15845676, 447.76407289,\n",
       "       449.36924125, 450.97396024, 452.57822826, 454.1820437 ,\n",
       "       455.78540496, 457.38831043, 458.99075851, 460.59274761,\n",
       "       462.19427611, 463.79534241, 465.39594492, 466.99608204,\n",
       "       468.59575216, 470.19495368, 471.79368501, 473.39194455,\n",
       "       474.98973069, 476.58704184, 478.18387641, 479.78023279,\n",
       "       481.37610939, 482.97150462, 484.56641687, 486.16084456,\n",
       "       487.75478609, 489.34823986, 490.94120429, 492.53367777,\n",
       "       494.12565872, 495.71714554, 497.30813665, 498.89863045,\n",
       "       500.48862535, 502.07811976, 503.66711209, 505.25560076,\n",
       "       506.84358417, 508.43106074, 510.01802888, 511.60448699,\n",
       "       513.19043351, 514.77586683, 516.36078538, 517.94518757,\n",
       "       519.52907181, 521.11243652, 522.69528012, 524.27760103,\n",
       "       525.85939765, 527.44066842, 529.02141175, 530.60162606,\n",
       "       532.18130976, 533.76046129, 535.33907905, 536.91716147,\n",
       "       538.49470698, 540.07171399, 541.64818093, 543.22410622,\n",
       "       544.79948829, 546.37432556, 547.94861646, 549.5223594 ,\n",
       "       551.09555283, 552.66819515, 554.24028481, 555.81182023,\n",
       "       557.38279984, 558.95322207, 560.52308534, 562.09238809,\n",
       "       563.66112875, 565.22930574, 566.79691751, 568.36396248,\n",
       "       569.93043908, 571.49634576, 573.06168094, 574.62644306,\n",
       "       576.19063055, 577.75424185, 579.31727539, 580.87972962,\n",
       "       582.44160297, 584.00289388, 585.56360078, 587.12372213,\n",
       "       588.68325634, 590.24220188, 591.80055717, 593.35832066,\n",
       "       594.91549079, 596.47206601, 598.02804476, 599.58342548,\n",
       "       601.13820661, 602.69238661, 604.24596391, 605.79893697,\n",
       "       607.35130423, 608.90306414, 610.45421514, 612.00475569,\n",
       "       613.55468424, 615.10399923, 616.65269912, 618.20078235,\n",
       "       619.74824739, 621.29509268, 622.84131667, 624.38691782,\n",
       "       625.93189458, 627.47624541, 629.01996877, 630.5630631 ,\n",
       "       632.10552687, 633.64735854, 635.18855656, 636.72911939,\n",
       "       638.26904549, 639.80833332, 641.34698135, 642.88498802,\n",
       "       644.42235182, 645.95907119, 647.4951446 , 649.03057051,\n",
       "       650.5653474 , 652.09947372, 653.63294794, 655.16576853,\n",
       "       656.69793395, 658.22944268, 659.76029317, 661.29048391,\n",
       "       662.82001335, 664.34887997, 665.87708225, 667.40461865,\n",
       "       668.93148764, 670.4576877 , 671.98321731, 673.50807493,\n",
       "       675.03225904, 676.55576813, 678.07860065, 679.6007551 ,\n",
       "       681.12222995])"
      ]
     },
     "execution_count": 9,
     "metadata": {},
     "output_type": "execute_result"
    }
   ],
   "source": [
    "wavelength_1"
   ]
  },
  {
   "cell_type": "code",
   "execution_count": 10,
   "metadata": {},
   "outputs": [
    {
     "data": {
      "text/plain": [
       "<matplotlib.legend.Legend at 0x12116c0f0>"
      ]
     },
     "execution_count": 10,
     "metadata": {},
     "output_type": "execute_result"
    },
    {
     "data": {
      "image/png": "[encoded data removed]",
      "text/plain": [
       "<Figure size 432x288 with 1 Axes>"
      ]
     },
     "metadata": {},
     "output_type": "display_data"
    }
   ],
   "source": [
    "# Plot of the Intensity vs Wavelength graph \n",
    "plt.title(\"Intensity VS Wavelength(nm)\")\n",
    "plt.plot(wavelength_1, real_data.values,label= \"Sample 1\")\n",
    "plt.xlabel(\"Wavelength (nm)\")\n",
    "plt.ylabel(\"Intensity (%)\")\n",
    "plt.legend()"
   ]
  },
  {
   "cell_type": "markdown",
   "metadata": {},
   "source": [
    "# Find the absorbed wavelength(nm) \n",
    "\n",
    "As we can see that, the absorbed wavelength is between 500nm and 600nm. We can find the minimum intensity value in this data first and them find the corresponded wavelength "
   ]
  },
  {
   "cell_type": "code",
   "execution_count": 11,
   "metadata": {},
   "outputs": [],
   "source": [
    "# Find absorbed wavelength\n",
    "\n",
    "# Define a dataframe for the intensity \n",
    "absorb = pd.DataFrame(real_data.values, columns=[\"Intensity\"])\n",
    "# set the index to the previous result of wavelengths \n",
    "absorb = absorb.set_index(wavelength_1)\n",
    "# rename the index to wavelength\n",
    "absorb.rename_axis(\"Wavelength(nm)\", axis=\"index\", inplace= True)"
   ]
  },
  {
   "cell_type": "code",
   "execution_count": 12,
   "metadata": {},
   "outputs": [
    {
     "data": {
      "text/html": [
       "<div>\n",
       "<style scoped>\n",
       "    .dataframe tbody tr th:only-of-type {\n",
       "        vertical-align: middle;\n",
       "    }\n",
       "\n",
       "    .dataframe tbody tr th {\n",
       "        vertical-align: top;\n",
       "    }\n",
       "\n",
       "    .dataframe thead th {\n",
       "        text-align: right;\n",
       "    }\n",
       "</style>\n",
       "<table border=\"1\" class=\"dataframe\">\n",
       "  <thead>\n",
       "    <tr style=\"text-align: right;\">\n",
       "      <th></th>\n",
       "      <th>Intensity</th>\n",
       "    </tr>\n",
       "    <tr>\n",
       "      <th>Wavelength(nm)</th>\n",
       "      <th></th>\n",
       "    </tr>\n",
       "  </thead>\n",
       "  <tbody>\n",
       "    <tr>\n",
       "      <th>1.666666</th>\n",
       "      <td>79.471429</td>\n",
       "    </tr>\n",
       "    <tr>\n",
       "      <th>3.333331</th>\n",
       "      <td>63.971429</td>\n",
       "    </tr>\n",
       "    <tr>\n",
       "      <th>4.999993</th>\n",
       "      <td>55.966667</td>\n",
       "    </tr>\n",
       "    <tr>\n",
       "      <th>6.666649</th>\n",
       "      <td>50.775000</td>\n",
       "    </tr>\n",
       "    <tr>\n",
       "      <th>8.333299</th>\n",
       "      <td>46.133333</td>\n",
       "    </tr>\n",
       "    <tr>\n",
       "      <th>...</th>\n",
       "      <td>...</td>\n",
       "    </tr>\n",
       "    <tr>\n",
       "      <th>675.032259</th>\n",
       "      <td>35.783333</td>\n",
       "    </tr>\n",
       "    <tr>\n",
       "      <th>676.555768</th>\n",
       "      <td>35.540000</td>\n",
       "    </tr>\n",
       "    <tr>\n",
       "      <th>678.078601</th>\n",
       "      <td>35.128571</td>\n",
       "    </tr>\n",
       "    <tr>\n",
       "      <th>679.600755</th>\n",
       "      <td>34.833333</td>\n",
       "    </tr>\n",
       "    <tr>\n",
       "      <th>681.122230</th>\n",
       "      <td>34.597101</td>\n",
       "    </tr>\n",
       "  </tbody>\n",
       "</table>\n",
       "<p>421 rows × 1 columns</p>\n",
       "</div>"
      ],
      "text/plain": [
       "                Intensity\n",
       "Wavelength(nm)           \n",
       "1.666666        79.471429\n",
       "3.333331        63.971429\n",
       "4.999993        55.966667\n",
       "6.666649        50.775000\n",
       "8.333299        46.133333\n",
       "...                   ...\n",
       "675.032259      35.783333\n",
       "676.555768      35.540000\n",
       "678.078601      35.128571\n",
       "679.600755      34.833333\n",
       "681.122230      34.597101\n",
       "\n",
       "[421 rows x 1 columns]"
      ]
     },
     "execution_count": 12,
     "metadata": {},
     "output_type": "execute_result"
    }
   ],
   "source": [
    "# show the data frame of wavelength and intensity\n",
    "absorb"
   ]
  },
  {
   "cell_type": "code",
   "execution_count": 13,
   "metadata": {},
   "outputs": [
    {
     "data": {
      "text/html": [
       "<div>\n",
       "<style scoped>\n",
       "    .dataframe tbody tr th:only-of-type {\n",
       "        vertical-align: middle;\n",
       "    }\n",
       "\n",
       "    .dataframe tbody tr th {\n",
       "        vertical-align: top;\n",
       "    }\n",
       "\n",
       "    .dataframe thead th {\n",
       "        text-align: right;\n",
       "    }\n",
       "</style>\n",
       "<table border=\"1\" class=\"dataframe\">\n",
       "  <thead>\n",
       "    <tr style=\"text-align: right;\">\n",
       "      <th></th>\n",
       "      <th>Intensity</th>\n",
       "    </tr>\n",
       "    <tr>\n",
       "      <th>Wavelength(nm)</th>\n",
       "      <th></th>\n",
       "    </tr>\n",
       "  </thead>\n",
       "  <tbody>\n",
       "    <tr>\n",
       "      <th>535.339079</th>\n",
       "      <td>10.5</td>\n",
       "    </tr>\n",
       "  </tbody>\n",
       "</table>\n",
       "</div>"
      ],
      "text/plain": [
       "                Intensity\n",
       "Wavelength(nm)           \n",
       "535.339079           10.5"
      ]
     },
     "execution_count": 13,
     "metadata": {},
     "output_type": "execute_result"
    }
   ],
   "source": [
    "# find the min value and the absorbed wavelength \n",
    "absorb[absorb.values == absorb[500:600].values.min() ]"
   ]
  },
  {
   "cell_type": "markdown",
   "metadata": {},
   "source": [
    "The absorbed wavelength is 535.3nm with intensity 10.5%"
   ]
  },
  {
   "cell_type": "code",
   "execution_count": null,
   "metadata": {},
   "outputs": [],
   "source": []
  }
 ],
 "metadata": {
  "kernelspec": {
   "display_name": "Python 3",
   "language": "python",
   "name": "python3"
  },
  "language_info": {
   "codemirror_mode": {
    "name": "ipython",
    "version": 3
   },
   "file_extension": ".py",
   "mimetype": "text/x-python",
   "name": "python",
   "nbconvert_exporter": "python",
   "pygments_lexer": "ipython3",
   "version": "3.7.3"
  }
 },
 "nbformat": 4,
 "nbformat_minor": 4
}
